{
 "cells": [
  {
   "cell_type": "code",
   "execution_count": 6,
   "metadata": {},
   "outputs": [],
   "source": [
    "# %pip install selenium\n",
    "import pandas as pd, requests\n",
    "from bs4 import BeautifulSoup\n",
    "from selenium import webdriver\n",
    "from time import sleep"
   ]
  },
  {
   "cell_type": "code",
   "execution_count": 9,
   "metadata": {},
   "outputs": [],
   "source": [
    "driver = webdriver.Chrome(executable_path=\"./Chromedriver/macos/chromedriver\") "
   ]
  },
  {
   "cell_type": "code",
   "execution_count": 43,
   "metadata": {},
   "outputs": [],
   "source": [
    "url = 'https://primenow.amazon.com/storefront?merchantId=A2H9WG57X0QEGO&ref_=pn_gw_fs_1_A2H9WG57X0QEGO'\n",
    "driver.get(url)\n",
    "\n",
    "try: \n",
    "    zip_code = driver.find_element_by_id('lsPostalCode')\n",
    "    zip_code.send_keys('90048')\n",
    "    submit_zipcode = driver.find_element_by_class_name('a-button-input')\n",
    "    submit_zipcode.click()\n",
    "except:\n",
    "    pass\n",
    "\n",
    "soup = BeautifulSoup(driver.page_source,'lxml')\n",
    "categories = soup.find_all(\"div\",{\"class\": \"categoryTile__tile__30ivY\"})\n",
    "category_links=[]\n",
    "for category in categories[-12:]:\n",
    "    category_links.append(category.find({\"a\":\"href\"})['href'])"
   ]
  },
  {
   "cell_type": "code",
   "execution_count": 51,
   "metadata": {},
   "outputs": [],
   "source": []
  },
  {
   "cell_type": "code",
   "execution_count": 52,
   "metadata": {},
   "outputs": [
    {
     "data": {
      "text/plain": [
       "['/browse?node=17732797011&merchantId=A233F0IN4TM99I&ref_=pn_sf_ct_17732797011_A233F0IN4TM99I&pf_rd_r=M4GCCYXBFW5AS88DR1Y7&pf_rd_p=d3b50bf9-56a8-42d3-bb03-6157d0ee9975&pf_rd_s=desktop-center-8&pf_rd_i=A233F0IN4TM99I&pf_rd_t=101&pf_rd_m=A35T2T8BW467U4',\n",
       " '/browse?node=17576164011&merchantId=A233F0IN4TM99I&ref_=pn_sf_ct_17576164011_A233F0IN4TM99I&pf_rd_r=M4GCCYXBFW5AS88DR1Y7&pf_rd_p=7f39377d-6c40-45b1-a2bb-982f670adf22&pf_rd_s=desktop-center-9&pf_rd_i=A233F0IN4TM99I&pf_rd_t=101&pf_rd_m=A35T2T8BW467U4',\n",
       " '/browse?node=17732795011&merchantId=A233F0IN4TM99I&ref_=pn_sf_ct_17732795011_A233F0IN4TM99I&pf_rd_r=M4GCCYXBFW5AS88DR1Y7&pf_rd_p=206c03c1-c6e5-4393-9b32-206454b4f16c&pf_rd_s=desktop-center-10&pf_rd_i=A233F0IN4TM99I&pf_rd_t=101&pf_rd_m=A35T2T8BW467U4',\n",
       " '/browse?node=19387925011&merchantId=A233F0IN4TM99I&ref_=pn_sf_ct_19387925011_A233F0IN4TM99I&pf_rd_r=M4GCCYXBFW5AS88DR1Y7&pf_rd_p=48c9ca64-7fb7-4ee3-bbd2-9e88eb7d6d4d&pf_rd_s=desktop-center-11&pf_rd_i=A233F0IN4TM99I&pf_rd_t=101&pf_rd_m=A35T2T8BW467U4',\n",
       " '/browse?node=17576165011&merchantId=A233F0IN4TM99I&ref_=pn_sf_ct_17576165011_A233F0IN4TM99I&pf_rd_r=M4GCCYXBFW5AS88DR1Y7&pf_rd_p=d0664b35-45d1-49b6-a430-3f69151c086e&pf_rd_s=desktop-center-12&pf_rd_i=A233F0IN4TM99I&pf_rd_t=101&pf_rd_m=A35T2T8BW467U4',\n",
       " '/browse?node=17576172011&merchantId=A233F0IN4TM99I&ref_=pn_sf_ct_17576172011_A233F0IN4TM99I&pf_rd_r=M4GCCYXBFW5AS88DR1Y7&pf_rd_p=595df6ee-674e-4ea5-a3fb-3826ecd64060&pf_rd_s=desktop-center-13&pf_rd_i=A233F0IN4TM99I&pf_rd_t=101&pf_rd_m=A35T2T8BW467U4',\n",
       " '/browse?node=18384518011&merchantId=A233F0IN4TM99I&ref_=pn_sf_ct_18384518011_A233F0IN4TM99I&pf_rd_r=M4GCCYXBFW5AS88DR1Y7&pf_rd_p=93027eb9-6d8c-4389-b233-2b1f0f7f13d7&pf_rd_s=desktop-center-14&pf_rd_i=A233F0IN4TM99I&pf_rd_t=101&pf_rd_m=A35T2T8BW467U4',\n",
       " '/browse?node=17576170011&merchantId=A233F0IN4TM99I&ref_=pn_sf_ct_17576170011_A233F0IN4TM99I&pf_rd_r=M4GCCYXBFW5AS88DR1Y7&pf_rd_p=aae78988-d67a-41aa-94a0-6681fde623b0&pf_rd_s=desktop-center-15&pf_rd_i=A233F0IN4TM99I&pf_rd_t=101&pf_rd_m=A35T2T8BW467U4',\n",
       " '/browse?node=17728774011&merchantId=A233F0IN4TM99I&ref_=pn_sf_ct_17728774011_A233F0IN4TM99I&pf_rd_r=M4GCCYXBFW5AS88DR1Y7&pf_rd_p=8a65902b-8ab5-4c68-8ead-7afb5968c3d5&pf_rd_s=desktop-center-16&pf_rd_i=A233F0IN4TM99I&pf_rd_t=101&pf_rd_m=A35T2T8BW467U4',\n",
       " '/browse?node=17552664011&merchantId=A233F0IN4TM99I&ref_=pn_sf_ct_17552664011_A233F0IN4TM99I&pf_rd_r=M4GCCYXBFW5AS88DR1Y7&pf_rd_p=383f2adc-d9c5-4652-9540-fd55d5db1b08&pf_rd_s=desktop-below-center-1&pf_rd_i=A233F0IN4TM99I&pf_rd_t=101&pf_rd_m=A35T2T8BW467U4',\n",
       " '/browse?node=17576171011&merchantId=A233F0IN4TM99I&ref_=pn_sf_ct_17576171011_A233F0IN4TM99I&pf_rd_r=M4GCCYXBFW5AS88DR1Y7&pf_rd_p=23048d7b-4432-4915-be28-0af0673ac279&pf_rd_s=desktop-below-center-2&pf_rd_i=A233F0IN4TM99I&pf_rd_t=101&pf_rd_m=A35T2T8BW467U4',\n",
       " '/browse?node=17576168011&merchantId=A233F0IN4TM99I&ref_=pn_sf_ct_17576168011_A233F0IN4TM99I&pf_rd_r=M4GCCYXBFW5AS88DR1Y7&pf_rd_p=e1fecb53-35e5-4a48-937a-5f71cb91fbbf&pf_rd_s=desktop-below-center-3&pf_rd_i=A233F0IN4TM99I&pf_rd_t=101&pf_rd_m=A35T2T8BW467U4']"
      ]
     },
     "execution_count": 52,
     "metadata": {},
     "output_type": "execute_result"
    }
   ],
   "source": [
    "category_links"
   ]
  },
  {
   "cell_type": "code",
   "execution_count": null,
   "metadata": {},
   "outputs": [],
   "source": [
    "product"
   ]
  },
  {
   "cell_type": "code",
   "execution_count": 53,
   "metadata": {},
   "outputs": [],
   "source": [
    "for category in category_links:\n",
    "    driver.get('https://primenow.amazon.com'+category)"
   ]
  },
  {
   "cell_type": "code",
   "execution_count": 62,
   "metadata": {},
   "outputs": [],
   "source": [
    "products= driver.find_elements_by_xpath('//li[@class = \"product_grid__item__20t1D\"]')\n"
   ]
  },
  {
   "cell_type": "code",
   "execution_count": 63,
   "metadata": {},
   "outputs": [
    {
     "name": "stdout",
     "output_type": "stream",
     "text": [
      "Dave's Killer Bread, 21 Whole Grains, Organic, 27 oz\n",
      "$6.99\n",
      "Add\n",
      "365 Everyday Value, Bread Sandwich Whole Wheat California, 24 Ounce\n",
      "$3.29\n",
      "Add\n",
      "Dave's Killer Bread, 21 Whole Grains Thin-Sliced 60 Calories, Organic…\n",
      "$6.79\n",
      "Add\n",
      "Mi Rancho, Tortillas Corn Organic, 9.33 Ounce\n",
      "$3.69\n",
      "Add\n",
      "365 Everyday Value, Bread Sourdough California, 24 Ounce\n",
      "$3.29\n",
      "Add\n",
      "Dave's Killer Bread, White Bread Done Right, 24 oz\n",
      "$6.99\n",
      "Add\n",
      "Navitas Organics Pomegranate Powder, 8 oz. Bag — Organic…\n",
      "$22.99\n",
      "View Options\n",
      "Mi Rancho, Tortillas Flour Large Organic 6 Count, 15 Ounce\n",
      "$3.29\n",
      "Add\n",
      "365 Everyday Value, Buns Hamburger White Organic California, 15 Ounce\n",
      "$3.49\n",
      "Add\n",
      "Whole Foods Market, Organic Bread Baguette Rustic, 11 Ounce\n",
      "$3.29\n",
      "Add\n",
      "365 Everyday Value, Tandoori Naan Original, 3 Ounce, 4 Count (Frozen)\n",
      "$3.99\n",
      "Add\n",
      "365 Everyday Value, Muffin English Classic California, 13 Ounce\n",
      "$2.49\n",
      "Add\n",
      "Siete, Coconut Cassava Tortillas, 8-count, 7 oz (frozen)\n",
      "$7.99\n",
      "Add\n",
      "Dave's Killer Bread Plain Awesome Organic bagels, 16.75 oz\n",
      "$5.49\n",
      "Add\n",
      "365 Everyday Value, Bread Sandwich Whole Wheat Organic California, 20…\n",
      "$3.79\n",
      "Add\n",
      "Dave's Killer Bread, Good Seed, Organic, 27 oz\n",
      "$6.99\n",
      "Add\n",
      "365 Everyday Value, Tandoori Naan Roasted Garlic, 3 oz, 4 ct, (Frozen)\n",
      "$3.99\n",
      "Add\n",
      "365 Everyday Value, Bread Sandwich Multigrain Organic California, 20…\n",
      "$3.79\n",
      "Add\n",
      "Dave's Killer Bread, Good Seed Killer Thin-sliced 70 Calories, Organic…\n",
      "$6.79\n",
      "Add\n",
      "La Tortilla Factory, Tortilla Traditional Organic, 6 Count, 7.62 Ounce\n",
      "$3.49\n",
      "Add\n",
      "365 Everyday Value, Buns Hamburger White California, 15 Ounce\n",
      "$2.99\n",
      "Add\n",
      "Dave's Killer Bread Cinnamon Raisin Remix Organic Bagels, 16.75 oz\n",
      "$5.49\n",
      "Add\n",
      "La Tortilla Factory Corn & Wheat, Organic, 8.68 oz., 6 ct\n",
      "$3.49\n",
      "Add\n",
      "365 Everyday Value, Buns Hamburger Whole Wheat California, 15 Ounce\n",
      "$2.99\n",
      "Add\n",
      "Siete Family Foods, Tortillas Grain-Free Chickpea Flour, 7 Ounce\n",
      "$7.99\n",
      "Add\n",
      "Mi Rancho, Tortillas Flour Small Organic, 6 Count\n",
      "$3.19\n",
      "Add\n",
      "365 Everyday Value, Buns Hot Dog White Organic California, 14 Ounce\n",
      "$3.49\n",
      "Add\n",
      "Food For Life, Tortillas Ezekiel Sprouted Whole Grain Large…\n",
      "$3.39\n",
      "Add\n",
      "Food for Life, Organic Sprouted Grain English Muffin, 16 oz\n",
      "$4.99\n",
      "Add\n",
      "365 Everyday Value, Buns Hot Dog Whole Wheat Organic California, 15…\n",
      "$3.49\n",
      "Add\n"
     ]
    }
   ],
   "source": [
    "for product in products:\n",
    "    print(product.text)"
   ]
  },
  {
   "cell_type": "code",
   "execution_count": null,
   "metadata": {},
   "outputs": [],
   "source": []
  }
 ],
 "metadata": {
  "kernelspec": {
   "display_name": "Python 3",
   "language": "python",
   "name": "python3"
  },
  "language_info": {
   "codemirror_mode": {
    "name": "ipython",
    "version": 3
   },
   "file_extension": ".py",
   "mimetype": "text/x-python",
   "name": "python",
   "nbconvert_exporter": "python",
   "pygments_lexer": "ipython3",
   "version": "3.7.3"
  }
 },
 "nbformat": 4,
 "nbformat_minor": 2
}
