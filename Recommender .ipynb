{
 "cells": [
  {
   "cell_type": "code",
   "execution_count": null,
   "metadata": {},
   "outputs": [],
   "source": []
  },
  {
   "cell_type": "code",
   "execution_count": 2,
   "metadata": {},
   "outputs": [],
   "source": [
    "import pandas as pd\n",
    "from scipy import sparse\n",
    "from sklearn.metrics.pairwise import pairwise_distances\n",
    "from sklearn.feature_extraction.text import CountVectorizer, TfidfVectorizer\n",
    "from gensim.models import Doc2Vec"
   ]
  },
  {
   "cell_type": "code",
   "execution_count": 8,
   "metadata": {},
   "outputs": [],
   "source": [
    "k= df.head()"
   ]
  },
  {
   "cell_type": "code",
   "execution_count": 3,
   "metadata": {
    "scrolled": true
   },
   "outputs": [
    {
     "data": {
      "text/html": [
       "<div>\n",
       "<style scoped>\n",
       "    .dataframe tbody tr th:only-of-type {\n",
       "        vertical-align: middle;\n",
       "    }\n",
       "\n",
       "    .dataframe tbody tr th {\n",
       "        vertical-align: top;\n",
       "    }\n",
       "\n",
       "    .dataframe thead th {\n",
       "        text-align: right;\n",
       "    }\n",
       "</style>\n",
       "<table border=\"1\" class=\"dataframe\">\n",
       "  <thead>\n",
       "    <tr style=\"text-align: right;\">\n",
       "      <th></th>\n",
       "      <th>all_info_combined</th>\n",
       "      <th>all_info_combined_clean</th>\n",
       "      <th>brand</th>\n",
       "      <th>category</th>\n",
       "      <th>description</th>\n",
       "      <th>name</th>\n",
       "      <th>price</th>\n",
       "      <th>store</th>\n",
       "    </tr>\n",
       "  </thead>\n",
       "  <tbody>\n",
       "    <tr>\n",
       "      <th>0</th>\n",
       "      <td>Organic Valley, Organic Half &amp; Half, Ultra Pas...</td>\n",
       "      <td>organic valley, organic half &amp; half, ultra pas...</td>\n",
       "      <td>Organic Valley</td>\n",
       "      <td>Dairy</td>\n",
       "      <td>When cows spend their days on lush green pastu...</td>\n",
       "      <td>Organic Valley, Organic Half &amp; Half, Ultra Pas...</td>\n",
       "      <td>4.69</td>\n",
       "      <td>Whole Foods Market</td>\n",
       "    </tr>\n",
       "    <tr>\n",
       "      <th>1</th>\n",
       "      <td>Organic Valley, Organic Half &amp; Half, Ultra Pas...</td>\n",
       "      <td>organic valley, organic half &amp; half, ultra pas...</td>\n",
       "      <td>Organic Valley</td>\n",
       "      <td>Dairy</td>\n",
       "      <td>When cows spend their days on lush green pastu...</td>\n",
       "      <td>Organic Valley, Organic Half &amp; Half, Ultra Pas...</td>\n",
       "      <td>2.69</td>\n",
       "      <td>Amazon</td>\n",
       "    </tr>\n",
       "    <tr>\n",
       "      <th>2</th>\n",
       "      <td>Organic Valley, Organic Heavy Whipping Cream, ...</td>\n",
       "      <td>organic valley, organic heavy whipping cream, ...</td>\n",
       "      <td>Organic Valley</td>\n",
       "      <td>Dairy</td>\n",
       "      <td>When cows spend their days on lush green pastu...</td>\n",
       "      <td>Organic Valley, Organic Heavy Whipping Cream, ...</td>\n",
       "      <td>4.49</td>\n",
       "      <td>Amazon</td>\n",
       "    </tr>\n",
       "    <tr>\n",
       "      <th>3</th>\n",
       "      <td>Folgers Gourmet Selections Lively Colombian Co...</td>\n",
       "      <td>folgers gourmet selections lively colombian co...</td>\n",
       "      <td>Folgers Gourmet Selections Lively Colombian Co...</td>\n",
       "      <td>Dairy</td>\n",
       "      <td>Folgers Gourmet Selections K-Cups - Med - Colu...</td>\n",
       "      <td>Folgers Gourmet Selections Lively Colombian Co...</td>\n",
       "      <td>9.06</td>\n",
       "      <td>Amazon</td>\n",
       "    </tr>\n",
       "    <tr>\n",
       "      <th>4</th>\n",
       "      <td>Lactaid 2% Reduced Fat Milk, 64 fl oz You won’...</td>\n",
       "      <td>lactaid 2% reduced fat milk, 64 fl oz won’t be...</td>\n",
       "      <td>Lactaid</td>\n",
       "      <td>Dairy</td>\n",
       "      <td>You won’t believe it’s 100% lactose free. Get ...</td>\n",
       "      <td>Lactaid 2% Reduced Fat Milk, 64 fl oz</td>\n",
       "      <td>3.99</td>\n",
       "      <td>Amazon</td>\n",
       "    </tr>\n",
       "  </tbody>\n",
       "</table>\n",
       "</div>"
      ],
      "text/plain": [
       "                                   all_info_combined  \\\n",
       "0  Organic Valley, Organic Half & Half, Ultra Pas...   \n",
       "1  Organic Valley, Organic Half & Half, Ultra Pas...   \n",
       "2  Organic Valley, Organic Heavy Whipping Cream, ...   \n",
       "3  Folgers Gourmet Selections Lively Colombian Co...   \n",
       "4  Lactaid 2% Reduced Fat Milk, 64 fl oz You won’...   \n",
       "\n",
       "                             all_info_combined_clean  \\\n",
       "0  organic valley, organic half & half, ultra pas...   \n",
       "1  organic valley, organic half & half, ultra pas...   \n",
       "2  organic valley, organic heavy whipping cream, ...   \n",
       "3  folgers gourmet selections lively colombian co...   \n",
       "4  lactaid 2% reduced fat milk, 64 fl oz won’t be...   \n",
       "\n",
       "                                               brand category  \\\n",
       "0                                     Organic Valley    Dairy   \n",
       "1                                     Organic Valley    Dairy   \n",
       "2                                     Organic Valley    Dairy   \n",
       "3  Folgers Gourmet Selections Lively Colombian Co...    Dairy   \n",
       "4                                            Lactaid    Dairy   \n",
       "\n",
       "                                         description  \\\n",
       "0  When cows spend their days on lush green pastu...   \n",
       "1  When cows spend their days on lush green pastu...   \n",
       "2  When cows spend their days on lush green pastu...   \n",
       "3  Folgers Gourmet Selections K-Cups - Med - Colu...   \n",
       "4  You won’t believe it’s 100% lactose free. Get ...   \n",
       "\n",
       "                                                name price               store  \n",
       "0  Organic Valley, Organic Half & Half, Ultra Pas...  4.69  Whole Foods Market  \n",
       "1  Organic Valley, Organic Half & Half, Ultra Pas...  2.69              Amazon  \n",
       "2  Organic Valley, Organic Heavy Whipping Cream, ...  4.49              Amazon  \n",
       "3  Folgers Gourmet Selections Lively Colombian Co...  9.06              Amazon  \n",
       "4              Lactaid 2% Reduced Fat Milk, 64 fl oz  3.99              Amazon  "
      ]
     },
     "execution_count": 3,
     "metadata": {},
     "output_type": "execute_result"
    }
   ],
   "source": [
    "df = pd.read_csv('datasets/comp_data3.csv')\n",
    "df.head()"
   ]
  },
  {
   "cell_type": "code",
   "execution_count": 15,
   "metadata": {},
   "outputs": [
    {
     "data": {
      "text/plain": [
       "Index(['all_info_combined', 'all_info_combined_clean', 'brand', 'category',\n",
       "       'description', 'name', 'price', 'store'],\n",
       "      dtype='object')"
      ]
     },
     "execution_count": 15,
     "metadata": {},
     "output_type": "execute_result"
    }
   ],
   "source": [
    "df.columns"
   ]
  },
  {
   "cell_type": "code",
   "execution_count": 47,
   "metadata": {},
   "outputs": [
    {
     "data": {
      "text/plain": [
       "array(['Dairy', 'Produce', 'Snacks & Sweets', 'Frozen Foods',\n",
       "       'Breakfast & Cereals', 'Beverages', 'Coffee & Tea',\n",
       "       'Sports & Energy Drinks', 'Pantry', 'Bread & Bakery',\n",
       "       'Meat & Seafood', 'Specialty Diets ', 'Nutrition & Weight Loss',\n",
       "       'Deli', 'Bakery & Bread'], dtype=object)"
      ]
     },
     "execution_count": 47,
     "metadata": {},
     "output_type": "execute_result"
    }
   ],
   "source": [
    "df.category.unique()"
   ]
  },
  {
   "cell_type": "code",
   "execution_count": 19,
   "metadata": {},
   "outputs": [
    {
     "data": {
      "text/plain": [
       "all_info_combined             0\n",
       "all_info_combined_clean       0\n",
       "brand                         0\n",
       "category                      0\n",
       "description                2763\n",
       "name                          0\n",
       "price                         0\n",
       "store                         0\n",
       "dtype: int64"
      ]
     },
     "execution_count": 19,
     "metadata": {},
     "output_type": "execute_result"
    }
   ],
   "source": [
    "df.isna().sum()"
   ]
  },
  {
   "cell_type": "code",
   "execution_count": 22,
   "metadata": {},
   "outputs": [],
   "source": [
    "df.dropna(how = 'any',inplace=True, subset = ['price'])\n"
   ]
  },
  {
   "cell_type": "code",
   "execution_count": 23,
   "metadata": {},
   "outputs": [],
   "source": [
    "tfidf = TfidfVectorizer(analyzer = 'word', tokenizer= None,\n",
    "                      preprocessor = None, stop_words='english',\n",
    "                      max_features=2000, ngram_range=(1,3))"
   ]
  },
  {
   "cell_type": "code",
   "execution_count": 24,
   "metadata": {},
   "outputs": [],
   "source": [
    "df_features_tfidf = tfidf.fit_transform(df['all_info_combined_clean'])"
   ]
  },
  {
   "cell_type": "code",
   "execution_count": 25,
   "metadata": {},
   "outputs": [],
   "source": [
    "features = pd.DataFrame(df_features_tfidf.todense(), columns=tfidf.get_feature_names())"
   ]
  },
  {
   "cell_type": "code",
   "execution_count": 26,
   "metadata": {},
   "outputs": [
    {
     "data": {
      "text/plain": [
       "(13615, 2000)"
      ]
     },
     "execution_count": 26,
     "metadata": {},
     "output_type": "execute_result"
    }
   ],
   "source": [
    "features.shape"
   ]
  },
  {
   "cell_type": "code",
   "execution_count": 27,
   "metadata": {},
   "outputs": [
    {
     "data": {
      "text/plain": [
       "(13615,)"
      ]
     },
     "execution_count": 27,
     "metadata": {},
     "output_type": "execute_result"
    }
   ],
   "source": [
    "df['name'].shape"
   ]
  },
  {
   "cell_type": "code",
   "execution_count": null,
   "metadata": {},
   "outputs": [],
   "source": []
  },
  {
   "cell_type": "code",
   "execution_count": 28,
   "metadata": {},
   "outputs": [],
   "source": [
    "df2 = pd.merge(df['name'],features, right_index=True, left_index=True)"
   ]
  },
  {
   "cell_type": "code",
   "execution_count": 29,
   "metadata": {},
   "outputs": [],
   "source": [
    "df2.set_index(df2['name'],inplace=True)"
   ]
  },
  {
   "cell_type": "code",
   "execution_count": 30,
   "metadata": {},
   "outputs": [],
   "source": [
    "df2.drop(columns=['name'],inplace=True)"
   ]
  },
  {
   "cell_type": "code",
   "execution_count": 31,
   "metadata": {},
   "outputs": [
    {
     "data": {
      "text/html": [
       "<div>\n",
       "<style scoped>\n",
       "    .dataframe tbody tr th:only-of-type {\n",
       "        vertical-align: middle;\n",
       "    }\n",
       "\n",
       "    .dataframe tbody tr th {\n",
       "        vertical-align: top;\n",
       "    }\n",
       "\n",
       "    .dataframe thead th {\n",
       "        text-align: right;\n",
       "    }\n",
       "</style>\n",
       "<table border=\"1\" class=\"dataframe\">\n",
       "  <thead>\n",
       "    <tr style=\"text-align: right;\">\n",
       "      <th></th>\n",
       "      <th>000</th>\n",
       "      <th>000 diet</th>\n",
       "      <th>0cal</th>\n",
       "      <th>0cal cholesterol</th>\n",
       "      <th>0cal cholesterol 0mg</th>\n",
       "      <th>0g</th>\n",
       "      <th>0g calcium</th>\n",
       "      <th>0g iron</th>\n",
       "      <th>0g iron protein</th>\n",
       "      <th>0g percentage</th>\n",
       "      <th>...</th>\n",
       "      <th>yogurt day healthy</th>\n",
       "      <th>yogurt plain</th>\n",
       "      <th>yogurt provides</th>\n",
       "      <th>yogurt provides key</th>\n",
       "      <th>york</th>\n",
       "      <th>yummy</th>\n",
       "      <th>zero</th>\n",
       "      <th>zero calories</th>\n",
       "      <th>zero sugar</th>\n",
       "      <th>zevia</th>\n",
       "    </tr>\n",
       "    <tr>\n",
       "      <th>name</th>\n",
       "      <th></th>\n",
       "      <th></th>\n",
       "      <th></th>\n",
       "      <th></th>\n",
       "      <th></th>\n",
       "      <th></th>\n",
       "      <th></th>\n",
       "      <th></th>\n",
       "      <th></th>\n",
       "      <th></th>\n",
       "      <th></th>\n",
       "      <th></th>\n",
       "      <th></th>\n",
       "      <th></th>\n",
       "      <th></th>\n",
       "      <th></th>\n",
       "      <th></th>\n",
       "      <th></th>\n",
       "      <th></th>\n",
       "      <th></th>\n",
       "      <th></th>\n",
       "    </tr>\n",
       "  </thead>\n",
       "  <tbody>\n",
       "    <tr>\n",
       "      <th>Organic Valley, Organic Half &amp; Half, Ultra Pasteurized, Quart, 32 oz</th>\n",
       "      <td>0.0</td>\n",
       "      <td>0.0</td>\n",
       "      <td>0.0</td>\n",
       "      <td>0.0</td>\n",
       "      <td>0.0</td>\n",
       "      <td>0.0</td>\n",
       "      <td>0.0</td>\n",
       "      <td>0.0</td>\n",
       "      <td>0.0</td>\n",
       "      <td>0.0</td>\n",
       "      <td>...</td>\n",
       "      <td>0.0</td>\n",
       "      <td>0.0</td>\n",
       "      <td>0.0</td>\n",
       "      <td>0.0</td>\n",
       "      <td>0.0</td>\n",
       "      <td>0.0</td>\n",
       "      <td>0.0</td>\n",
       "      <td>0.0</td>\n",
       "      <td>0.0</td>\n",
       "      <td>0.0</td>\n",
       "    </tr>\n",
       "    <tr>\n",
       "      <th>Organic Valley, Organic Half &amp; Half, Ultra Pasteurized, Pint, 16 oz</th>\n",
       "      <td>0.0</td>\n",
       "      <td>0.0</td>\n",
       "      <td>0.0</td>\n",
       "      <td>0.0</td>\n",
       "      <td>0.0</td>\n",
       "      <td>0.0</td>\n",
       "      <td>0.0</td>\n",
       "      <td>0.0</td>\n",
       "      <td>0.0</td>\n",
       "      <td>0.0</td>\n",
       "      <td>...</td>\n",
       "      <td>0.0</td>\n",
       "      <td>0.0</td>\n",
       "      <td>0.0</td>\n",
       "      <td>0.0</td>\n",
       "      <td>0.0</td>\n",
       "      <td>0.0</td>\n",
       "      <td>0.0</td>\n",
       "      <td>0.0</td>\n",
       "      <td>0.0</td>\n",
       "      <td>0.0</td>\n",
       "    </tr>\n",
       "    <tr>\n",
       "      <th>Organic Valley, Organic Heavy Whipping Cream, Ultra Pasteurized, Pint, 16 oz</th>\n",
       "      <td>0.0</td>\n",
       "      <td>0.0</td>\n",
       "      <td>0.0</td>\n",
       "      <td>0.0</td>\n",
       "      <td>0.0</td>\n",
       "      <td>0.0</td>\n",
       "      <td>0.0</td>\n",
       "      <td>0.0</td>\n",
       "      <td>0.0</td>\n",
       "      <td>0.0</td>\n",
       "      <td>...</td>\n",
       "      <td>0.0</td>\n",
       "      <td>0.0</td>\n",
       "      <td>0.0</td>\n",
       "      <td>0.0</td>\n",
       "      <td>0.0</td>\n",
       "      <td>0.0</td>\n",
       "      <td>0.0</td>\n",
       "      <td>0.0</td>\n",
       "      <td>0.0</td>\n",
       "      <td>0.0</td>\n",
       "    </tr>\n",
       "    <tr>\n",
       "      <th>Folgers Gourmet Selections Lively Colombian Coffee, K-Cup for Keurig Brewers, 12 Count, Packaging May Vary</th>\n",
       "      <td>0.0</td>\n",
       "      <td>0.0</td>\n",
       "      <td>0.0</td>\n",
       "      <td>0.0</td>\n",
       "      <td>0.0</td>\n",
       "      <td>0.0</td>\n",
       "      <td>0.0</td>\n",
       "      <td>0.0</td>\n",
       "      <td>0.0</td>\n",
       "      <td>0.0</td>\n",
       "      <td>...</td>\n",
       "      <td>0.0</td>\n",
       "      <td>0.0</td>\n",
       "      <td>0.0</td>\n",
       "      <td>0.0</td>\n",
       "      <td>0.0</td>\n",
       "      <td>0.0</td>\n",
       "      <td>0.0</td>\n",
       "      <td>0.0</td>\n",
       "      <td>0.0</td>\n",
       "      <td>0.0</td>\n",
       "    </tr>\n",
       "    <tr>\n",
       "      <th>Lactaid 2% Reduced Fat Milk, 64 fl oz</th>\n",
       "      <td>0.0</td>\n",
       "      <td>0.0</td>\n",
       "      <td>0.0</td>\n",
       "      <td>0.0</td>\n",
       "      <td>0.0</td>\n",
       "      <td>0.0</td>\n",
       "      <td>0.0</td>\n",
       "      <td>0.0</td>\n",
       "      <td>0.0</td>\n",
       "      <td>0.0</td>\n",
       "      <td>...</td>\n",
       "      <td>0.0</td>\n",
       "      <td>0.0</td>\n",
       "      <td>0.0</td>\n",
       "      <td>0.0</td>\n",
       "      <td>0.0</td>\n",
       "      <td>0.0</td>\n",
       "      <td>0.0</td>\n",
       "      <td>0.0</td>\n",
       "      <td>0.0</td>\n",
       "      <td>0.0</td>\n",
       "    </tr>\n",
       "  </tbody>\n",
       "</table>\n",
       "<p>5 rows × 2000 columns</p>\n",
       "</div>"
      ],
      "text/plain": [
       "                                                    000  000 diet  0cal  \\\n",
       "name                                                                      \n",
       "Organic Valley, Organic Half & Half, Ultra Past...  0.0       0.0   0.0   \n",
       "Organic Valley, Organic Half & Half, Ultra Past...  0.0       0.0   0.0   \n",
       "Organic Valley, Organic Heavy Whipping Cream, U...  0.0       0.0   0.0   \n",
       "Folgers Gourmet Selections Lively Colombian Cof...  0.0       0.0   0.0   \n",
       "Lactaid 2% Reduced Fat Milk, 64 fl oz               0.0       0.0   0.0   \n",
       "\n",
       "                                                    0cal cholesterol  \\\n",
       "name                                                                   \n",
       "Organic Valley, Organic Half & Half, Ultra Past...               0.0   \n",
       "Organic Valley, Organic Half & Half, Ultra Past...               0.0   \n",
       "Organic Valley, Organic Heavy Whipping Cream, U...               0.0   \n",
       "Folgers Gourmet Selections Lively Colombian Cof...               0.0   \n",
       "Lactaid 2% Reduced Fat Milk, 64 fl oz                            0.0   \n",
       "\n",
       "                                                    0cal cholesterol 0mg   0g  \\\n",
       "name                                                                            \n",
       "Organic Valley, Organic Half & Half, Ultra Past...                   0.0  0.0   \n",
       "Organic Valley, Organic Half & Half, Ultra Past...                   0.0  0.0   \n",
       "Organic Valley, Organic Heavy Whipping Cream, U...                   0.0  0.0   \n",
       "Folgers Gourmet Selections Lively Colombian Cof...                   0.0  0.0   \n",
       "Lactaid 2% Reduced Fat Milk, 64 fl oz                                0.0  0.0   \n",
       "\n",
       "                                                    0g calcium  0g iron  \\\n",
       "name                                                                      \n",
       "Organic Valley, Organic Half & Half, Ultra Past...         0.0      0.0   \n",
       "Organic Valley, Organic Half & Half, Ultra Past...         0.0      0.0   \n",
       "Organic Valley, Organic Heavy Whipping Cream, U...         0.0      0.0   \n",
       "Folgers Gourmet Selections Lively Colombian Cof...         0.0      0.0   \n",
       "Lactaid 2% Reduced Fat Milk, 64 fl oz                      0.0      0.0   \n",
       "\n",
       "                                                    0g iron protein  \\\n",
       "name                                                                  \n",
       "Organic Valley, Organic Half & Half, Ultra Past...              0.0   \n",
       "Organic Valley, Organic Half & Half, Ultra Past...              0.0   \n",
       "Organic Valley, Organic Heavy Whipping Cream, U...              0.0   \n",
       "Folgers Gourmet Selections Lively Colombian Cof...              0.0   \n",
       "Lactaid 2% Reduced Fat Milk, 64 fl oz                           0.0   \n",
       "\n",
       "                                                    0g percentage  ...  \\\n",
       "name                                                               ...   \n",
       "Organic Valley, Organic Half & Half, Ultra Past...            0.0  ...   \n",
       "Organic Valley, Organic Half & Half, Ultra Past...            0.0  ...   \n",
       "Organic Valley, Organic Heavy Whipping Cream, U...            0.0  ...   \n",
       "Folgers Gourmet Selections Lively Colombian Cof...            0.0  ...   \n",
       "Lactaid 2% Reduced Fat Milk, 64 fl oz                         0.0  ...   \n",
       "\n",
       "                                                    yogurt day healthy  \\\n",
       "name                                                                     \n",
       "Organic Valley, Organic Half & Half, Ultra Past...                 0.0   \n",
       "Organic Valley, Organic Half & Half, Ultra Past...                 0.0   \n",
       "Organic Valley, Organic Heavy Whipping Cream, U...                 0.0   \n",
       "Folgers Gourmet Selections Lively Colombian Cof...                 0.0   \n",
       "Lactaid 2% Reduced Fat Milk, 64 fl oz                              0.0   \n",
       "\n",
       "                                                    yogurt plain  \\\n",
       "name                                                               \n",
       "Organic Valley, Organic Half & Half, Ultra Past...           0.0   \n",
       "Organic Valley, Organic Half & Half, Ultra Past...           0.0   \n",
       "Organic Valley, Organic Heavy Whipping Cream, U...           0.0   \n",
       "Folgers Gourmet Selections Lively Colombian Cof...           0.0   \n",
       "Lactaid 2% Reduced Fat Milk, 64 fl oz                        0.0   \n",
       "\n",
       "                                                    yogurt provides  \\\n",
       "name                                                                  \n",
       "Organic Valley, Organic Half & Half, Ultra Past...              0.0   \n",
       "Organic Valley, Organic Half & Half, Ultra Past...              0.0   \n",
       "Organic Valley, Organic Heavy Whipping Cream, U...              0.0   \n",
       "Folgers Gourmet Selections Lively Colombian Cof...              0.0   \n",
       "Lactaid 2% Reduced Fat Milk, 64 fl oz                           0.0   \n",
       "\n",
       "                                                    yogurt provides key  york  \\\n",
       "name                                                                            \n",
       "Organic Valley, Organic Half & Half, Ultra Past...                  0.0   0.0   \n",
       "Organic Valley, Organic Half & Half, Ultra Past...                  0.0   0.0   \n",
       "Organic Valley, Organic Heavy Whipping Cream, U...                  0.0   0.0   \n",
       "Folgers Gourmet Selections Lively Colombian Cof...                  0.0   0.0   \n",
       "Lactaid 2% Reduced Fat Milk, 64 fl oz                               0.0   0.0   \n",
       "\n",
       "                                                    yummy  zero  \\\n",
       "name                                                              \n",
       "Organic Valley, Organic Half & Half, Ultra Past...    0.0   0.0   \n",
       "Organic Valley, Organic Half & Half, Ultra Past...    0.0   0.0   \n",
       "Organic Valley, Organic Heavy Whipping Cream, U...    0.0   0.0   \n",
       "Folgers Gourmet Selections Lively Colombian Cof...    0.0   0.0   \n",
       "Lactaid 2% Reduced Fat Milk, 64 fl oz                 0.0   0.0   \n",
       "\n",
       "                                                    zero calories  zero sugar  \\\n",
       "name                                                                            \n",
       "Organic Valley, Organic Half & Half, Ultra Past...            0.0         0.0   \n",
       "Organic Valley, Organic Half & Half, Ultra Past...            0.0         0.0   \n",
       "Organic Valley, Organic Heavy Whipping Cream, U...            0.0         0.0   \n",
       "Folgers Gourmet Selections Lively Colombian Cof...            0.0         0.0   \n",
       "Lactaid 2% Reduced Fat Milk, 64 fl oz                         0.0         0.0   \n",
       "\n",
       "                                                    zevia  \n",
       "name                                                       \n",
       "Organic Valley, Organic Half & Half, Ultra Past...    0.0  \n",
       "Organic Valley, Organic Half & Half, Ultra Past...    0.0  \n",
       "Organic Valley, Organic Heavy Whipping Cream, U...    0.0  \n",
       "Folgers Gourmet Selections Lively Colombian Cof...    0.0  \n",
       "Lactaid 2% Reduced Fat Milk, 64 fl oz                 0.0  \n",
       "\n",
       "[5 rows x 2000 columns]"
      ]
     },
     "execution_count": 31,
     "metadata": {},
     "output_type": "execute_result"
    }
   ],
   "source": [
    "df2.head()"
   ]
  },
  {
   "cell_type": "code",
   "execution_count": 32,
   "metadata": {},
   "outputs": [],
   "source": [
    "sparse_pivot = sparse.csr_matrix(df2.fillna(0))\n"
   ]
  },
  {
   "cell_type": "code",
   "execution_count": 14,
   "metadata": {},
   "outputs": [
    {
     "ename": "NameError",
     "evalue": "name 'sparse_pivot' is not defined",
     "output_type": "error",
     "traceback": [
      "\u001b[0;31m---------------------------------------------------------------------------\u001b[0m",
      "\u001b[0;31mNameError\u001b[0m                                 Traceback (most recent call last)",
      "\u001b[0;32m<ipython-input-14-742d1168077e>\u001b[0m in \u001b[0;36m<module>\u001b[0;34m\u001b[0m\n\u001b[0;32m----> 1\u001b[0;31m \u001b[0mrecommender\u001b[0m \u001b[0;34m=\u001b[0m \u001b[0mpairwise_distances\u001b[0m\u001b[0;34m(\u001b[0m\u001b[0msparse_pivot\u001b[0m\u001b[0;34m,\u001b[0m\u001b[0mmetric\u001b[0m\u001b[0;34m=\u001b[0m\u001b[0;34m'cosine'\u001b[0m\u001b[0;34m)\u001b[0m\u001b[0;34m\u001b[0m\u001b[0;34m\u001b[0m\u001b[0m\n\u001b[0m",
      "\u001b[0;31mNameError\u001b[0m: name 'sparse_pivot' is not defined"
     ]
    }
   ],
   "source": [
    "recommender = pairwise_distances(sparse_pivot,metric='cosine')"
   ]
  },
  {
   "cell_type": "code",
   "execution_count": null,
   "metadata": {},
   "outputs": [],
   "source": []
  },
  {
   "cell_type": "code",
   "execution_count": null,
   "metadata": {},
   "outputs": [],
   "source": []
  },
  {
   "cell_type": "code",
   "execution_count": 13,
   "metadata": {},
   "outputs": [
    {
     "ename": "NameError",
     "evalue": "name 'recommender' is not defined",
     "output_type": "error",
     "traceback": [
      "\u001b[0;31m---------------------------------------------------------------------------\u001b[0m",
      "\u001b[0;31mNameError\u001b[0m                                 Traceback (most recent call last)",
      "\u001b[0;32m<ipython-input-13-244a76583d99>\u001b[0m in \u001b[0;36m<module>\u001b[0;34m\u001b[0m\n\u001b[0;32m----> 1\u001b[0;31m \u001b[0mrecommender_df\u001b[0m \u001b[0;34m=\u001b[0m \u001b[0mpd\u001b[0m\u001b[0;34m.\u001b[0m\u001b[0mDataFrame\u001b[0m\u001b[0;34m(\u001b[0m\u001b[0mrecommender\u001b[0m\u001b[0;34m,\u001b[0m \u001b[0mcolumns\u001b[0m\u001b[0;34m=\u001b[0m\u001b[0mdf2\u001b[0m\u001b[0;34m.\u001b[0m\u001b[0mindex\u001b[0m\u001b[0;34m,\u001b[0m \u001b[0mindex\u001b[0m\u001b[0;34m=\u001b[0m\u001b[0mdf2\u001b[0m\u001b[0;34m.\u001b[0m\u001b[0mindex\u001b[0m\u001b[0;34m)\u001b[0m\u001b[0;34m\u001b[0m\u001b[0;34m\u001b[0m\u001b[0m\n\u001b[0m",
      "\u001b[0;31mNameError\u001b[0m: name 'recommender' is not defined"
     ]
    }
   ],
   "source": [
    "recommender_df = pd.DataFrame(recommender, columns=df2.index, index=df2.index)"
   ]
  },
  {
   "cell_type": "code",
   "execution_count": null,
   "metadata": {},
   "outputs": [],
   "source": []
  },
  {
   "cell_type": "code",
   "execution_count": 39,
   "metadata": {},
   "outputs": [],
   "source": [
    "recommender_df.to_csv('datasets/recommender_df.csv')"
   ]
  },
  {
   "cell_type": "code",
   "execution_count": 15,
   "metadata": {},
   "outputs": [],
   "source": [
    "recommender_df = pd.read_csv('datasets/recommender_df.csv')"
   ]
  },
  {
   "cell_type": "code",
   "execution_count": 54,
   "metadata": {},
   "outputs": [],
   "source": [
    "def suggestion(search):\n",
    "    names = df.loc[df['name'].str.contains(search), 'name'][:5]\n",
    "    for i in names:\n",
    "        print(i)\n",
    "    "
   ]
  },
  {
   "cell_type": "code",
   "execution_count": 55,
   "metadata": {},
   "outputs": [
    {
     "name": "stdout",
     "output_type": "stream",
     "text": [
      "365 Everyday Value Kefir Cultured Whole Milk Vitamin D, Plain, 32 Fluid Ounce\n",
      "Organic Valley, Organic Pasteurized Low Fat Cultured Buttermilk - 32 oz Quart\n",
      "365 Everyday Value Kefir Cultured Whole Milk Vitamin D, Plain, 32 Fluid Ounce\n",
      "Organic Valley Ultra, Ultra-Filtered Organic Whole Milk - 56 oz Carton\n",
      "Organic Valley Ultra, Ultra-Filtered Organic 2% Reduced Fat Milk - 56 oz Carton\n"
     ]
    }
   ],
   "source": [
    "suggestion('red')"
   ]
  },
  {
   "cell_type": "code",
   "execution_count": 17,
   "metadata": {},
   "outputs": [],
   "source": [
    "search = \"Bolthouse Farms Green Goodness - 52oz\"\n",
    "\n",
    "def recommend_me(search):\n",
    "    for title in df.loc[df['name'].str.contains(search), 'name']:\n",
    "        print(title)\n",
    "        recommendation = recommender_df[title].sort_values()[1:10]\n",
    "    recom = pd.DataFrame(recommendation)    \n",
    "    recoms = pd.merge(df, recom, on = 'name')\n",
    "    recommended_cat = df.loc[df['name'].str.contains(search),'category'].head(1).values[0]\n",
    "    final = recoms[recoms['category']== recommended_cat]\n",
    "    return final[['name','brand', 'store','price','category']]"
   ]
  },
  {
   "cell_type": "code",
   "execution_count": 18,
   "metadata": {},
   "outputs": [
    {
     "name": "stdout",
     "output_type": "stream",
     "text": [
      "Red Bull Energy Drink, Sugar Free, 4 Pack of 8.4 Fl Oz, Sugarfree\n",
      "Red Bull Energy Drink, 4pk, 8.4 oz Cans\n",
      "Red Bull Energy Drink Sugar Free 24 Pack 8.4 Fl Oz, Sugarfree\n",
      "Red Bull Energy Drink, Blueberry, 4 Pack of 8.4 Fl Oz, Blue Edition\n",
      "Red Bull Energy Drink 8.4 Oz  24 Pack\n",
      "Red Bull Energy Drink, Cranberry, 4 Pack of 8.4 Fl Oz, Red Edition\n",
      "Red Bull Orange Edition, Tangerine Energy Drink, 8.4 Fluid Ounce, 4 Count\n",
      "Red Bull, Energy Drink, 12 Ounce\n",
      "Red Bull, Red Bull Energy Drink 4 Pk, 8.4 Ounce\n",
      "Red Bull Sugarfree Energy Drink, 8.4 oz\n",
      "Red Bull Energy Drink, 8.4 oz\n",
      "Red Bull, The Blue Edition Energy Drink, 12 Ounce\n"
     ]
    },
    {
     "ename": "KeyError",
     "evalue": "'Red Bull, The Blue Edition Energy Drink, 12 Ounce'",
     "output_type": "error",
     "traceback": [
      "\u001b[0;31m---------------------------------------------------------------------------\u001b[0m",
      "\u001b[0;31mKeyError\u001b[0m                                  Traceback (most recent call last)",
      "\u001b[0;32m~/anaconda3/envs/dsi/lib/python3.7/site-packages/pandas/core/indexes/base.py\u001b[0m in \u001b[0;36mget_loc\u001b[0;34m(self, key, method, tolerance)\u001b[0m\n\u001b[1;32m   2656\u001b[0m             \u001b[0;32mtry\u001b[0m\u001b[0;34m:\u001b[0m\u001b[0;34m\u001b[0m\u001b[0;34m\u001b[0m\u001b[0m\n\u001b[0;32m-> 2657\u001b[0;31m                 \u001b[0;32mreturn\u001b[0m \u001b[0mself\u001b[0m\u001b[0;34m.\u001b[0m\u001b[0m_engine\u001b[0m\u001b[0;34m.\u001b[0m\u001b[0mget_loc\u001b[0m\u001b[0;34m(\u001b[0m\u001b[0mkey\u001b[0m\u001b[0;34m)\u001b[0m\u001b[0;34m\u001b[0m\u001b[0;34m\u001b[0m\u001b[0m\n\u001b[0m\u001b[1;32m   2658\u001b[0m             \u001b[0;32mexcept\u001b[0m \u001b[0mKeyError\u001b[0m\u001b[0;34m:\u001b[0m\u001b[0;34m\u001b[0m\u001b[0;34m\u001b[0m\u001b[0m\n",
      "\u001b[0;32mpandas/_libs/index.pyx\u001b[0m in \u001b[0;36mpandas._libs.index.IndexEngine.get_loc\u001b[0;34m()\u001b[0m\n",
      "\u001b[0;32mpandas/_libs/index.pyx\u001b[0m in \u001b[0;36mpandas._libs.index.IndexEngine.get_loc\u001b[0;34m()\u001b[0m\n",
      "\u001b[0;32mpandas/_libs/hashtable_class_helper.pxi\u001b[0m in \u001b[0;36mpandas._libs.hashtable.PyObjectHashTable.get_item\u001b[0;34m()\u001b[0m\n",
      "\u001b[0;32mpandas/_libs/hashtable_class_helper.pxi\u001b[0m in \u001b[0;36mpandas._libs.hashtable.PyObjectHashTable.get_item\u001b[0;34m()\u001b[0m\n",
      "\u001b[0;31mKeyError\u001b[0m: 'Red Bull, The Blue Edition Energy Drink, 12 Ounce'",
      "\nDuring handling of the above exception, another exception occurred:\n",
      "\u001b[0;31mKeyError\u001b[0m                                  Traceback (most recent call last)",
      "\u001b[0;32m<ipython-input-18-c31f54a01d39>\u001b[0m in \u001b[0;36m<module>\u001b[0;34m\u001b[0m\n\u001b[0;32m----> 1\u001b[0;31m \u001b[0mrecommend_me\u001b[0m\u001b[0;34m(\u001b[0m\u001b[0;34m'Red Bull'\u001b[0m\u001b[0;34m)\u001b[0m\u001b[0;34m\u001b[0m\u001b[0;34m\u001b[0m\u001b[0m\n\u001b[0m",
      "\u001b[0;32m<ipython-input-17-c518aaf196ee>\u001b[0m in \u001b[0;36mrecommend_me\u001b[0;34m(search)\u001b[0m\n\u001b[1;32m      4\u001b[0m     \u001b[0;32mfor\u001b[0m \u001b[0mtitle\u001b[0m \u001b[0;32min\u001b[0m \u001b[0mdf\u001b[0m\u001b[0;34m.\u001b[0m\u001b[0mloc\u001b[0m\u001b[0;34m[\u001b[0m\u001b[0mdf\u001b[0m\u001b[0;34m[\u001b[0m\u001b[0;34m'name'\u001b[0m\u001b[0;34m]\u001b[0m\u001b[0;34m.\u001b[0m\u001b[0mstr\u001b[0m\u001b[0;34m.\u001b[0m\u001b[0mcontains\u001b[0m\u001b[0;34m(\u001b[0m\u001b[0msearch\u001b[0m\u001b[0;34m)\u001b[0m\u001b[0;34m,\u001b[0m \u001b[0;34m'name'\u001b[0m\u001b[0;34m]\u001b[0m\u001b[0;34m:\u001b[0m\u001b[0;34m\u001b[0m\u001b[0;34m\u001b[0m\u001b[0m\n\u001b[1;32m      5\u001b[0m         \u001b[0mprint\u001b[0m\u001b[0;34m(\u001b[0m\u001b[0mtitle\u001b[0m\u001b[0;34m)\u001b[0m\u001b[0;34m\u001b[0m\u001b[0;34m\u001b[0m\u001b[0m\n\u001b[0;32m----> 6\u001b[0;31m         \u001b[0mrecommendation\u001b[0m \u001b[0;34m=\u001b[0m \u001b[0mrecommender_df\u001b[0m\u001b[0;34m[\u001b[0m\u001b[0mtitle\u001b[0m\u001b[0;34m]\u001b[0m\u001b[0;34m.\u001b[0m\u001b[0msort_values\u001b[0m\u001b[0;34m(\u001b[0m\u001b[0;34m)\u001b[0m\u001b[0;34m[\u001b[0m\u001b[0;36m1\u001b[0m\u001b[0;34m:\u001b[0m\u001b[0;36m10\u001b[0m\u001b[0;34m]\u001b[0m\u001b[0;34m\u001b[0m\u001b[0;34m\u001b[0m\u001b[0m\n\u001b[0m\u001b[1;32m      7\u001b[0m     \u001b[0mrecom\u001b[0m \u001b[0;34m=\u001b[0m \u001b[0mpd\u001b[0m\u001b[0;34m.\u001b[0m\u001b[0mDataFrame\u001b[0m\u001b[0;34m(\u001b[0m\u001b[0mrecommendation\u001b[0m\u001b[0;34m)\u001b[0m\u001b[0;34m\u001b[0m\u001b[0;34m\u001b[0m\u001b[0m\n\u001b[1;32m      8\u001b[0m     \u001b[0mrecoms\u001b[0m \u001b[0;34m=\u001b[0m \u001b[0mpd\u001b[0m\u001b[0;34m.\u001b[0m\u001b[0mmerge\u001b[0m\u001b[0;34m(\u001b[0m\u001b[0mdf\u001b[0m\u001b[0;34m,\u001b[0m \u001b[0mrecom\u001b[0m\u001b[0;34m,\u001b[0m \u001b[0mon\u001b[0m \u001b[0;34m=\u001b[0m \u001b[0;34m'name'\u001b[0m\u001b[0;34m)\u001b[0m\u001b[0;34m\u001b[0m\u001b[0;34m\u001b[0m\u001b[0m\n",
      "\u001b[0;32m~/anaconda3/envs/dsi/lib/python3.7/site-packages/pandas/core/frame.py\u001b[0m in \u001b[0;36m__getitem__\u001b[0;34m(self, key)\u001b[0m\n\u001b[1;32m   2925\u001b[0m             \u001b[0;32mif\u001b[0m \u001b[0mself\u001b[0m\u001b[0;34m.\u001b[0m\u001b[0mcolumns\u001b[0m\u001b[0;34m.\u001b[0m\u001b[0mnlevels\u001b[0m \u001b[0;34m>\u001b[0m \u001b[0;36m1\u001b[0m\u001b[0;34m:\u001b[0m\u001b[0;34m\u001b[0m\u001b[0;34m\u001b[0m\u001b[0m\n\u001b[1;32m   2926\u001b[0m                 \u001b[0;32mreturn\u001b[0m \u001b[0mself\u001b[0m\u001b[0;34m.\u001b[0m\u001b[0m_getitem_multilevel\u001b[0m\u001b[0;34m(\u001b[0m\u001b[0mkey\u001b[0m\u001b[0;34m)\u001b[0m\u001b[0;34m\u001b[0m\u001b[0;34m\u001b[0m\u001b[0m\n\u001b[0;32m-> 2927\u001b[0;31m             \u001b[0mindexer\u001b[0m \u001b[0;34m=\u001b[0m \u001b[0mself\u001b[0m\u001b[0;34m.\u001b[0m\u001b[0mcolumns\u001b[0m\u001b[0;34m.\u001b[0m\u001b[0mget_loc\u001b[0m\u001b[0;34m(\u001b[0m\u001b[0mkey\u001b[0m\u001b[0;34m)\u001b[0m\u001b[0;34m\u001b[0m\u001b[0;34m\u001b[0m\u001b[0m\n\u001b[0m\u001b[1;32m   2928\u001b[0m             \u001b[0;32mif\u001b[0m \u001b[0mis_integer\u001b[0m\u001b[0;34m(\u001b[0m\u001b[0mindexer\u001b[0m\u001b[0;34m)\u001b[0m\u001b[0;34m:\u001b[0m\u001b[0;34m\u001b[0m\u001b[0;34m\u001b[0m\u001b[0m\n\u001b[1;32m   2929\u001b[0m                 \u001b[0mindexer\u001b[0m \u001b[0;34m=\u001b[0m \u001b[0;34m[\u001b[0m\u001b[0mindexer\u001b[0m\u001b[0;34m]\u001b[0m\u001b[0;34m\u001b[0m\u001b[0;34m\u001b[0m\u001b[0m\n",
      "\u001b[0;32m~/anaconda3/envs/dsi/lib/python3.7/site-packages/pandas/core/indexes/base.py\u001b[0m in \u001b[0;36mget_loc\u001b[0;34m(self, key, method, tolerance)\u001b[0m\n\u001b[1;32m   2657\u001b[0m                 \u001b[0;32mreturn\u001b[0m \u001b[0mself\u001b[0m\u001b[0;34m.\u001b[0m\u001b[0m_engine\u001b[0m\u001b[0;34m.\u001b[0m\u001b[0mget_loc\u001b[0m\u001b[0;34m(\u001b[0m\u001b[0mkey\u001b[0m\u001b[0;34m)\u001b[0m\u001b[0;34m\u001b[0m\u001b[0;34m\u001b[0m\u001b[0m\n\u001b[1;32m   2658\u001b[0m             \u001b[0;32mexcept\u001b[0m \u001b[0mKeyError\u001b[0m\u001b[0;34m:\u001b[0m\u001b[0;34m\u001b[0m\u001b[0;34m\u001b[0m\u001b[0m\n\u001b[0;32m-> 2659\u001b[0;31m                 \u001b[0;32mreturn\u001b[0m \u001b[0mself\u001b[0m\u001b[0;34m.\u001b[0m\u001b[0m_engine\u001b[0m\u001b[0;34m.\u001b[0m\u001b[0mget_loc\u001b[0m\u001b[0;34m(\u001b[0m\u001b[0mself\u001b[0m\u001b[0;34m.\u001b[0m\u001b[0m_maybe_cast_indexer\u001b[0m\u001b[0;34m(\u001b[0m\u001b[0mkey\u001b[0m\u001b[0;34m)\u001b[0m\u001b[0;34m)\u001b[0m\u001b[0;34m\u001b[0m\u001b[0;34m\u001b[0m\u001b[0m\n\u001b[0m\u001b[1;32m   2660\u001b[0m         \u001b[0mindexer\u001b[0m \u001b[0;34m=\u001b[0m \u001b[0mself\u001b[0m\u001b[0;34m.\u001b[0m\u001b[0mget_indexer\u001b[0m\u001b[0;34m(\u001b[0m\u001b[0;34m[\u001b[0m\u001b[0mkey\u001b[0m\u001b[0;34m]\u001b[0m\u001b[0;34m,\u001b[0m \u001b[0mmethod\u001b[0m\u001b[0;34m=\u001b[0m\u001b[0mmethod\u001b[0m\u001b[0;34m,\u001b[0m \u001b[0mtolerance\u001b[0m\u001b[0;34m=\u001b[0m\u001b[0mtolerance\u001b[0m\u001b[0;34m)\u001b[0m\u001b[0;34m\u001b[0m\u001b[0;34m\u001b[0m\u001b[0m\n\u001b[1;32m   2661\u001b[0m         \u001b[0;32mif\u001b[0m \u001b[0mindexer\u001b[0m\u001b[0;34m.\u001b[0m\u001b[0mndim\u001b[0m \u001b[0;34m>\u001b[0m \u001b[0;36m1\u001b[0m \u001b[0;32mor\u001b[0m \u001b[0mindexer\u001b[0m\u001b[0;34m.\u001b[0m\u001b[0msize\u001b[0m \u001b[0;34m>\u001b[0m \u001b[0;36m1\u001b[0m\u001b[0;34m:\u001b[0m\u001b[0;34m\u001b[0m\u001b[0;34m\u001b[0m\u001b[0m\n",
      "\u001b[0;32mpandas/_libs/index.pyx\u001b[0m in \u001b[0;36mpandas._libs.index.IndexEngine.get_loc\u001b[0;34m()\u001b[0m\n",
      "\u001b[0;32mpandas/_libs/index.pyx\u001b[0m in \u001b[0;36mpandas._libs.index.IndexEngine.get_loc\u001b[0;34m()\u001b[0m\n",
      "\u001b[0;32mpandas/_libs/hashtable_class_helper.pxi\u001b[0m in \u001b[0;36mpandas._libs.hashtable.PyObjectHashTable.get_item\u001b[0;34m()\u001b[0m\n",
      "\u001b[0;32mpandas/_libs/hashtable_class_helper.pxi\u001b[0m in \u001b[0;36mpandas._libs.hashtable.PyObjectHashTable.get_item\u001b[0;34m()\u001b[0m\n",
      "\u001b[0;31mKeyError\u001b[0m: 'Red Bull, The Blue Edition Energy Drink, 12 Ounce'"
     ]
    }
   ],
   "source": [
    "recommend_me('Red Bull')"
   ]
  },
  {
   "cell_type": "code",
   "execution_count": 108,
   "metadata": {},
   "outputs": [
    {
     "data": {
      "text/plain": [
       "name\n",
       "Birds Eye Steamfresh Selects Frozen Mixed Vegetables - 12oz            0.256164\n",
       "Baby Cut Carrots - 1lb Bag                                             0.262126\n",
       "Ready Pac Foods Spring Mix - 5oz                                       0.279460\n",
       "Tomato Condensed Soup - 10.75oz - Market Pantry™                       0.285203\n",
       "Ready Pac Spinach Spring Mix - 5.25oz                                  0.285570\n",
       "Simply Orange Pulp Free with Calcium and Vitamin D Juice - 52 fl oz    0.295741\n",
       "Ore-Ida Shredded Hash Frozen Brown Potatoes - 30oz                     0.301673\n",
       "Simply Orange Medium Pulp Juice - 52 fl oz                             0.304312\n",
       "Naked Green Machine Boosted Juice Smoothie - 64oz                      0.306879\n",
       "Name: Bolthouse Farms Green Goodness - 52oz, dtype: float64"
      ]
     },
     "execution_count": 108,
     "metadata": {},
     "output_type": "execute_result"
    }
   ],
   "source": [
    "recommendation"
   ]
  },
  {
   "cell_type": "code",
   "execution_count": null,
   "metadata": {},
   "outputs": [],
   "source": [
    "search ='Red Bull'\n",
    "df.loc[df['name'].str.contains(search), 'name']"
   ]
  },
  {
   "cell_type": "code",
   "execution_count": null,
   "metadata": {},
   "outputs": [],
   "source": [
    "recommender_df['Red Bull Energy Drink - 4pk/12 fl oz Cans'].sort_values[0:10]"
   ]
  }
 ],
 "metadata": {
  "kernelspec": {
   "display_name": "Python 3",
   "language": "python",
   "name": "python3"
  },
  "language_info": {
   "codemirror_mode": {
    "name": "ipython",
    "version": 3
   },
   "file_extension": ".py",
   "mimetype": "text/x-python",
   "name": "python",
   "nbconvert_exporter": "python",
   "pygments_lexer": "ipython3",
   "version": "3.7.3"
  }
 },
 "nbformat": 4,
 "nbformat_minor": 2
}
